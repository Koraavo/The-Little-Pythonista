{
  "cells":[
    {
      "cell_type":"markdown",
      "source":[
        "## TOYS\n",
        "Schemer Jargons simplified"
      ],
      "metadata":{
        
      }
    },
    {
      "cell_type":"code",
      "source":[
        "def replace_bracs(bracs):\n",
        "    bracs = bracs.replace('(', '[')\n",
        "    bracs = bracs.replace(')', ']')\n",
        "    return bracs"
      ],
      "execution_count":121,
      "outputs":[
        
      ],
      "metadata":{
        
      }
    },
    {
      "cell_type":"code",
      "source":[
        "bracs = \" (((() four)) 17 (seventeen))\"\n",
        "replace_bracs(bracs)"
      ],
      "execution_count":122,
      "outputs":[
        {
          "data":{
            "text\/plain":[
              "' [[[[] four]] 17 [seventeen]]'"
            ]
          },
          "metadata":{
            
          },
          "output_type":"display_data"
        }
      ],
      "metadata":{
        
      }
    },
    {
      "cell_type":"code",
      "source":[
        "def is_null(lst):\n",
        "    return lst == []\n",
        "\n",
        "def is_atom(args):\n",
        "    \"\"\"an individual item\"\"\"\n",
        "    # if not isinstance(args, list) and (isinstance(args, str) or isinstance(args, int)):\n",
        "    #     return True\n",
        "    if (isinstance(args, str) or isinstance(args, int)):\n",
        "        return True\n",
        "    return False\n",
        "\n",
        "def is_list(*args):\n",
        "    \"\"\"checks if the arguments passed are a list, not a list of lists\"\"\"\n",
        "    if isinstance(args[0], list) and len(args) == 1:\n",
        "        return True\n",
        "    return 'This is not a list'\n",
        "\n",
        "def car(lst):\n",
        "    \"\"\"The primitive car is defined only for non-empty lists. Returns the first element\"\"\"\n",
        "    if is_atom(lst):\n",
        "        return 'You cannot ask for the car of an atom.'\n",
        "    elif is_list(lst) and len(lst) >= 1:\n",
        "        return lst[0]\n",
        "    else:\n",
        "        return 'You cannot ask for the car of the empty list.'\n",
        "\n",
        "def cdr(lst):\n",
        "    \"\"\"The primitive cdr is defined only for non-empty lists. \n",
        "       The cdr of any nonempty list is always another list. \"\"\"\n",
        "    if is_atom(lst):\n",
        "        return 'You cannot ask for the car of an atom.'\n",
        "    elif is_list(lst) and len(lst) >= 1:\n",
        "        return lst[1:]\n",
        "    else:\n",
        "        return 'You cannot ask for the cdr of a null list.'\n",
        "\n",
        "def cons(args, args2):\n",
        "    \"\"\"The primitive cons takes two arguments.\n",
        "       The second argument to cons must be a\n",
        "       list. The result is a list. \"\"\"\n",
        "    if not isinstance(args2, list):\n",
        "        return 'The second argument must be a list.'\n",
        "    args2.insert(0, args)\n",
        "    return args2\n",
        "\n",
        "# def is_equal(a, b):\n",
        "#     \"\"\"It takes two arguments. Each must be a nonnumeric atom\"\"\"\n",
        "#     if isinstance(a, str) and isinstance(b, str):\n",
        "#         return a == b\n",
        "#     elif isinstance(a, int) and isinstance(b, int):\n",
        "#         return f'{a} and {b} are integers'\n",
        "#     elif isinstance(a, list) and isinstance(b, list):\n",
        "#         return f'{a} and {b} are lists'\n",
        "\n",
        "def is_equal(a, b):\n",
        "    \"\"\"It takes two arguments. Each must be a nonnumeric atom\"\"\"\n",
        "    return a == b"
      ],
      "execution_count":123,
      "outputs":[
        
      ],
      "metadata":{
        
      }
    },
    {
      "cell_type":"code",
      "source":[
        "l = ['soured', 'milk']\n",
        "cdr(l)"
      ],
      "execution_count":124,
      "outputs":[
        {
          "data":{
            "text\/plain":[
              "['milk']"
            ]
          },
          "metadata":{
            
          },
          "output_type":"display_data"
        }
      ],
      "metadata":{
        
      }
    },
    {
      "cell_type":"code",
      "source":[
        "is_atom(car(cdr(['swing', 'low', 'sweet', 'cherry', 'oat'])) )"
      ],
      "execution_count":125,
      "outputs":[
        {
          "data":{
            "text\/plain":[
              "True"
            ]
          },
          "metadata":{
            
          },
          "output_type":"display_data"
        }
      ],
      "metadata":{
        
      }
    },
    {
      "cell_type":"markdown",
      "source":[
        "## DO IT, DO IT AGAIN, AND AGAIN AND AGAIN "
      ],
      "metadata":{
        
      }
    },
    {
      "cell_type":"markdown",
      "source":[
        "## THE FIRST COMMANDMENT: \n",
        "\n",
        "ALWAYS ASK NULL AS THE FIRST QUESTION IN EXPRESSING ANY FUNCTION"
      ],
      "metadata":{
        
      }
    },
    {
      "cell_type":"code",
      "source":[
        "def is_lat(lst):\n",
        "    \"\"\"checks if the list is a list of atoms\"\"\"\n",
        "    if lst == []:\n",
        "        return True\n",
        "    elif is_atom(car(lst)):\n",
        "        return is_lat(cdr(lst))\n",
        "    else:\n",
        "        return False"
      ],
      "execution_count":126,
      "outputs":[
        
      ],
      "metadata":{
        
      }
    },
    {
      "cell_type":"code",
      "source":[
        "def is_member(item, lst):\n",
        "    \"\"\"Takes two parameters and checks if item is in lst\"\"\"\n",
        "    if lst == []:\n",
        "        return False\n",
        "    else: \n",
        "        return is_equal(car(lst), item) or is_member(item, cdr(lst))"
      ],
      "execution_count":127,
      "outputs":[
        
      ],
      "metadata":{
        
      }
    },
    {
      "cell_type":"code",
      "source":[
        "item = 'meat'\n",
        "lst = ['mashed', 'potatoes', 'and', 'meat', 'gravy']\n",
        "is_member(item, lst)"
      ],
      "execution_count":128,
      "outputs":[
        {
          "data":{
            "text\/plain":[
              "True"
            ]
          },
          "metadata":{
            
          },
          "output_type":"display_data"
        }
      ],
      "metadata":{
        
      }
    },
    {
      "cell_type":"markdown",
      "source":[
        "## CONS THE MAGNIFICENT"
      ],
      "metadata":{
        
      }
    },
    {
      "cell_type":"markdown",
      "source":[
        "## THE SECOND COMMANDMENT: \n",
        "\n",
        "USE CONS TO LISTS"
      ],
      "metadata":{
        
      }
    },
    {
      "cell_type":"code",
      "source":[
        "def rember(item, lst):\n",
        "    \"\"\"Rember: remove a member.\n",
        "    It takes an atom and a lat as its arguments, and makes a new lat with the first occurrence of the atom in the old lat removed.\"\"\"\n",
        "    if lst == []:\n",
        "        return []\n",
        "    elif is_equal(car(lst), item):\n",
        "        return cdr(lst)\n",
        "    else:\n",
        "        return cons(car(lst), rember(item, cdr(lst)))"
      ],
      "execution_count":129,
      "outputs":[
        
      ],
      "metadata":{
        
      }
    },
    {
      "cell_type":"code",
      "source":[
        "a = 'sauce'\n",
        "lat = ['soy', 'sauce', 'and', 'bacon', 'tomato', 'sauce']\n",
        "rember(a, lat)"
      ],
      "execution_count":130,
      "outputs":[
        {
          "data":{
            "text\/plain":[
              "['soy', 'and', 'bacon', 'tomato', 'sauce']"
            ]
          },
          "metadata":{
            
          },
          "output_type":"display_data"
        }
      ],
      "metadata":{
        
      }
    },
    {
      "cell_type":"markdown",
      "source":[
        "## THE THIRD COMMANDMENT:\n",
        "\n",
        "WHEN BUILDING A LIST, DESCRIBE THE FIRST TYPICAL ELEMENT AND THEN `CONS` IT ONTO THE NATURAL RECURSION"
      ],
      "metadata":{
        
      }
    },
    {
      "cell_type":"code",
      "source":[
        "def firsts(lst):\n",
        "    \"\"\"Returns the first element of each list from a list of lists\"\"\"\n",
        "    if lst == []:\n",
        "        return []\n",
        "    else:\n",
        "        return cons(car(car(lst)), firsts(cdr(lst)))"
      ],
      "execution_count":131,
      "outputs":[
        
      ],
      "metadata":{
        
      }
    },
    {
      "cell_type":"code",
      "source":[
        "lat = [[1, 2, 3],[5,6,7]]\n",
        "firsts(lat)"
      ],
      "execution_count":132,
      "outputs":[
        {
          "data":{
            "text\/plain":[
              "[1, 5]"
            ]
          },
          "metadata":{
            
          },
          "output_type":"display_data"
        }
      ],
      "metadata":{
        
      }
    },
    {
      "cell_type":"code",
      "source":[
        "def car_2(lst):\n",
        "    \"\"\"created another car to return the second element of a list\"\"\"\n",
        "    return lst[1]\n",
        "\n",
        "def seconds(lst):\n",
        "    \"\"\"Returns the second element of each list from a list of lists\"\"\"\n",
        "    if lst == []:\n",
        "        return []\n",
        "    else:\n",
        "        return cons(car_2(car(lst)), seconds(cdr(lst)))\n",
        "        # return cons_l(lst[0][1], seconds(lst[1:]))"
      ],
      "execution_count":133,
      "outputs":[
        
      ],
      "metadata":{
        
      }
    },
    {
      "cell_type":"code",
      "source":[
        "lat = [[1,2,3], [4,5,6], [7,8,9]]\n",
        "seconds(lat)"
      ],
      "execution_count":134,
      "outputs":[
        {
          "data":{
            "text\/plain":[
              "[2, 5, 8]"
            ]
          },
          "metadata":{
            
          },
          "output_type":"display_data"
        }
      ],
      "metadata":{
        
      }
    },
    {
      "cell_type":"markdown",
      "source":[
        "## THE FOURTH COMMANDMENT\n",
        "\n",
        "Always change at least one argument while recurring. It must be changed to be closer to termination.<br>\n",
        "The changing argument must be tested in the termination condition:<br>\n",
        "when using cdr, test termination with null? and\n",
        "when using sub1 , test termination with zero ? "
      ],
      "metadata":{
        
      }
    },
    {
      "cell_type":"code",
      "source":[
        "def insertR(new, old, lst):\n",
        "    \"\"\"Takes Three arguments and builds a list with new inserted to the right of the first occurrence of the old\"\"\"\n",
        "    if lst == []:\n",
        "        return []\n",
        "    elif is_equal(car(lst), old):\n",
        "        return cons(old, cons(new, cdr(lst)))\n",
        "    else:\n",
        "        return cons(car(lst), insertR(new, old, cdr(lst)))"
      ],
      "execution_count":135,
      "outputs":[
        
      ],
      "metadata":{
        
      }
    },
    {
      "cell_type":"code",
      "source":[
        "insertR('foo', 'car', ['this', 'is', 'car', 'new'])"
      ],
      "execution_count":136,
      "outputs":[
        {
          "data":{
            "text\/plain":[
              "['this', 'is', 'car', 'foo', 'new']"
            ]
          },
          "metadata":{
            
          },
          "output_type":"display_data"
        }
      ],
      "metadata":{
        
      }
    },
    {
      "cell_type":"code",
      "source":[
        "def insertL(new, old, lst):\n",
        "    \"\"\"Takes Three arguments and builds a list with new inserted to the left of the first occurrence of the old\"\"\"\n",
        "    if lst == []:\n",
        "        return []\n",
        "    elif is_equal(car(lst), old):\n",
        "        return cons(new, lst)\n",
        "    else:\n",
        "        return cons(car(lst), insertL(new, old, cdr(lst)))"
      ],
      "execution_count":137,
      "outputs":[
        
      ],
      "metadata":{
        
      }
    },
    {
      "cell_type":"code",
      "source":[
        "insertL('foo', 'car', ['this', 'is', 'car', 'new'])"
      ],
      "execution_count":138,
      "outputs":[
        {
          "data":{
            "text\/plain":[
              "['this', 'is', 'foo', 'car', 'new']"
            ]
          },
          "metadata":{
            
          },
          "output_type":"display_data"
        }
      ],
      "metadata":{
        
      }
    },
    {
      "cell_type":"code",
      "source":[
        "def subst(new, old, lst):\n",
        "    \"\"\"takes three arguments, replaces the old with the new in the list\"\"\"\n",
        "    if lst == []:\n",
        "        return []\n",
        "    elif is_equal(car(lst), old):\n",
        "        return cons(new, cdr(lst))\n",
        "    else:\n",
        "        return cons(car(lst), subst(new, old, cdr(lst)))"
      ],
      "execution_count":139,
      "outputs":[
        
      ],
      "metadata":{
        
      }
    },
    {
      "cell_type":"code",
      "source":[
        "lst = ['ice cream', 'with', 'topping', 'for', 'dessert']\n",
        "subst('fudge', 'topping', lst)"
      ],
      "execution_count":140,
      "outputs":[
        {
          "data":{
            "text\/plain":[
              "['ice cream', 'with', 'fudge', 'for', 'dessert']"
            ]
          },
          "metadata":{
            
          },
          "output_type":"display_data"
        }
      ],
      "metadata":{
        
      }
    },
    {
      "cell_type":"code",
      "source":[
        "def subst2(new, old1, old2, lst):\n",
        "    \"\"\"takes four args, if old1 is found in the list, new replaces old1, else new replaces old2\"\"\"\n",
        "    if lst == []:\n",
        "        return []\n",
        "    elif is_equal(car(lst), old1) or is_equal(car(lst), old2):\n",
        "        return cons(new, cdr(lst))\n",
        "    else:\n",
        "        return cons(car(lst), subst2(new, old1, old2, cdr(lst)))"
      ],
      "execution_count":141,
      "outputs":[
        
      ],
      "metadata":{
        
      }
    },
    {
      "cell_type":"code",
      "source":[
        "new = 'vanilla'\n",
        "old1 = 'chocolate'\n",
        "old2 = 'banana'\n",
        "lst = ['banana', 'ice cream', 'with', 'chocolate', 'topping']\n",
        "subst2(new, old1, old2, lst)"
      ],
      "execution_count":142,
      "outputs":[
        {
          "data":{
            "text\/plain":[
              "['vanilla', 'ice cream', 'with', 'chocolate', 'topping']"
            ]
          },
          "metadata":{
            
          },
          "output_type":"display_data"
        }
      ],
      "metadata":{
        
      }
    },
    {
      "cell_type":"code",
      "source":[
        "def multirember(item, lst):\n",
        "    \"\"\"removes all occurrences of the item from the list\"\"\"\n",
        "    if lst == []:\n",
        "        return []\n",
        "    elif is_equal(car(lst), item):\n",
        "        \"\"\"if it is equal, forget the value and go back to trying to get the value for multirember\"\"\"\n",
        "        return multirember(item, cdr(lst))\n",
        "    else:\n",
        "        return cons(car(lst), multirember(item, cdr(lst)))"
      ],
      "execution_count":143,
      "outputs":[
        
      ],
      "metadata":{
        
      }
    },
    {
      "cell_type":"code",
      "source":[
        "lst = ['coffee', 'cup', 'tea', 'cup', 'and', 'hick', 'cup']\n",
        "multirember('cup', lst)"
      ],
      "execution_count":144,
      "outputs":[
        {
          "data":{
            "text\/plain":[
              "['coffee', 'tea', 'and', 'hick']"
            ]
          },
          "metadata":{
            
          },
          "output_type":"display_data"
        }
      ],
      "metadata":{
        
      }
    },
    {
      "cell_type":"code",
      "source":[
        "def multiinsertR(new, old, lst):\n",
        "    \"\"\"insert the new items after the old items in the lst\"\"\"\n",
        "    if lst == []:\n",
        "        return []\n",
        "    elif is_equal(car(lst), old):\n",
        "        \"\"\"merge the first element, \n",
        "        with the list of new_element + \n",
        "        the result of the multiinsertR, \n",
        "        incase there is another same element\"\"\"\n",
        "        return cons(car(lst), cons(new, multiinsertR(new, old, cdr(lst))))\n",
        "    else:\n",
        "        return cons(car(lst), multiinsertR(new, old, cdr(lst)))\n",
        "    "
      ],
      "execution_count":145,
      "outputs":[
        
      ],
      "metadata":{
        
      }
    },
    {
      "cell_type":"code",
      "source":[
        "new = 'fried'\n",
        "old = 'fish'\n",
        "lst = ['chips', 'and', 'fish', 'or', 'fish', 'and', 'fried']\n",
        "multiinsertR(new, old, lst)"
      ],
      "execution_count":146,
      "outputs":[
        {
          "data":{
            "text\/plain":[
              "['chips', 'and', 'fish', 'fried', 'or', 'fish', 'fried', 'and', 'fried']"
            ]
          },
          "metadata":{
            
          },
          "output_type":"display_data"
        }
      ],
      "metadata":{
        
      }
    },
    {
      "cell_type":"code",
      "source":[
        "def multiinsertL(new, old, lst):\n",
        "    \"\"\"insert the new items after the old items in the lst\"\"\"\n",
        "    if lst == []:\n",
        "        return []\n",
        "    elif is_equal(car(lst), old):\n",
        "        \"\"\"merge the first element, \n",
        "        with the list of new_element + \n",
        "        the result of the multiinsertR, \n",
        "        incase there is another same element\"\"\"\n",
        "        return cons(new, cons(old, multiinsertL(new, old, cdr(lst))))\n",
        "    else:\n",
        "        return cons(car(lst), multiinsertL(new, old, cdr(lst)))"
      ],
      "execution_count":147,
      "outputs":[
        
      ],
      "metadata":{
        
      }
    },
    {
      "cell_type":"code",
      "source":[
        "new = 'fried'\n",
        "old = 'fish'\n",
        "lst = ['chips', 'and', 'fish', 'or', 'fish', 'and', 'fried']\n",
        "multiinsertL(new, old, lst)"
      ],
      "execution_count":148,
      "outputs":[
        {
          "data":{
            "text\/plain":[
              "['chips', 'and', 'fried', 'fish', 'or', 'fried', 'fish', 'and', 'fried']"
            ]
          },
          "metadata":{
            
          },
          "output_type":"display_data"
        }
      ],
      "metadata":{
        
      }
    },
    {
      "cell_type":"markdown",
      "source":[
        "## NUMBERS GAMES"
      ],
      "metadata":{
        
      }
    },
    {
      "cell_type":"markdown",
      "source":[
        "## THE FIFTH COMMANDMENT\n",
        "\n",
        "When building a value with + , always use 0 for the value of the terminating line, for adding 0 does not change the value of an\n",
        "addition.<br>\n",
        "When building a value with x, always use 1 for the value of the terminating line, for multiplying by 1 does not change the value\n",
        "of a multiplication.<br>\n",
        "When building a value with cons , always consider [] for the value of the terminating line. "
      ],
      "metadata":{
        
      }
    },
    {
      "cell_type":"code",
      "source":[
        "\"\"\"is_zero is like null and plus is like cons (used to build numbers) using add \"\"\"\n",
        "\n",
        "def convert_int(num):\n",
        "    return int(num)\n",
        "\n",
        "def is_zero(num):\n",
        "    num = int(num)\n",
        "    return num == 0\n",
        "\n",
        "def add1(num):\n",
        "    num = int(num)\n",
        "    return num + 1\n",
        "\n",
        "def sub1(num):\n",
        "    num = int(num)\n",
        "    if not is_zero(num):\n",
        "        return num - 1\n",
        "\n",
        "def plus(num1, num2):\n",
        "    \"\"\"Takes two numbers and reduces the second until it hits 0 and then adds 1 to the first number that many times\"\"\"\n",
        "    num1, num2 = int(num1), int(num2)\n",
        "    if is_zero(num2):\n",
        "        return num1\n",
        "    else:\n",
        "        return add1(plus(num1, sub1(num2)))\n",
        "\n",
        "def plus1(num1, num2):\n",
        "    \"\"\"a more conventional +, to reduce the amount of recursion\"\"\"\n",
        "    num1, num2 = int(num1), int(num2)\n",
        "    if is_zero(num2):\n",
        "        return num1\n",
        "    else:\n",
        "        return num1 + num2\n",
        "\n",
        "def less_than(num1, num2):\n",
        "    num1, num2 = int(num1), int(num2)\n",
        "    return num1 < num2\n",
        "\n",
        "def greater_than(num1, num2):\n",
        "    num1, num2 = int(num1), int(num2)\n",
        "    return num1 > num2\n",
        "\n",
        "def equal_nums(num1, num2):\n",
        "    num1, num2 = int(num1), int(num2)\n",
        "    return num1 == num2"
      ],
      "execution_count":149,
      "outputs":[
        
      ],
      "metadata":{
        
      }
    },
    {
      "cell_type":"code",
      "source":[
        "def addtup(lst):\n",
        "    \"\"\"Add all the numbers in the list\"\"\"\n",
        "    if lst == []:\n",
        "        return 0\n",
        "    else:\n",
        "        return plus1(car(lst), addtup(cdr(lst)))"
      ],
      "execution_count":150,
      "outputs":[
        
      ],
      "metadata":{
        
      }
    },
    {
      "cell_type":"code",
      "source":[
        "lst = [15, 6, 7, 12, 3]\n",
        "addtup(lst)"
      ],
      "execution_count":151,
      "outputs":[
        {
          "data":{
            "text\/plain":[
              "43"
            ]
          },
          "metadata":{
            
          },
          "output_type":"display_data"
        }
      ],
      "metadata":{
        
      }
    },
    {
      "cell_type":"code",
      "source":[
        "def mult(n, m):\n",
        "    \"\"\"multiply numbers n and m the recursion way\"\"\"\n",
        "    if is_zero(m):\n",
        "        return 0\n",
        "    else:\n",
        "        return plus1(n, mult(n, sub1(m)))"
      ],
      "execution_count":152,
      "outputs":[
        
      ],
      "metadata":{
        
      }
    },
    {
      "cell_type":"code",
      "source":[
        "mult(12, 3)"
      ],
      "execution_count":153,
      "outputs":[
        {
          "data":{
            "text\/plain":[
              "36"
            ]
          },
          "metadata":{
            
          },
          "output_type":"display_data"
        }
      ],
      "metadata":{
        
      }
    },
    {
      "cell_type":"code",
      "source":[
        "def add_lists(lst1 ,lst2):\n",
        "    \"\"\"adds the first element of the list with the first element of lst2 and so on\"\"\"\n",
        "    if lst == []:\n",
        "        return lst2\n",
        "    if is_null(lst2):\n",
        "        return lst1\n",
        "    else:\n",
        "        return cons( plus1(car(lst1), car(lst2)), add_lists(cdr(lst1), cdr(lst2)) ) "
      ],
      "execution_count":154,
      "outputs":[
        
      ],
      "metadata":{
        
      }
    },
    {
      "cell_type":"code",
      "source":[
        "lst1 = [2, 3, 4, 5]\n",
        "lst2 = [4, 6]\n",
        "add_lists(lst1 ,lst2)"
      ],
      "execution_count":155,
      "outputs":[
        {
          "data":{
            "text\/plain":[
              "[6, 9, 4, 5]"
            ]
          },
          "metadata":{
            
          },
          "output_type":"display_data"
        }
      ],
      "metadata":{
        
      }
    },
    {
      "cell_type":"code",
      "source":[
        "def power(num1 ,num2):\n",
        "    \"\"\"returns num1 to the power num2\"\"\"\n",
        "    if is_zero(num2):\n",
        "        return 1\n",
        "    else:\n",
        "        return mult(num1, power(num1, sub1(num2)))"
      ],
      "execution_count":156,
      "outputs":[
        
      ],
      "metadata":{
        
      }
    },
    {
      "cell_type":"code",
      "source":[
        "power(5 ,3)"
      ],
      "execution_count":157,
      "outputs":[
        {
          "data":{
            "text\/plain":[
              "125"
            ]
          },
          "metadata":{
            
          },
          "output_type":"display_data"
        }
      ],
      "metadata":{
        
      }
    },
    {
      "cell_type":"code",
      "source":[
        "def divide(num1, num2):\n",
        "    \"\"\"returns the quotient of num1, num2\"\"\"\n",
        "    if num1 < num2:\n",
        "        return 0\n",
        "    else:\n",
        "        return add1(divide(num1-num2, num2))"
      ],
      "execution_count":158,
      "outputs":[
        
      ],
      "metadata":{
        
      }
    },
    {
      "cell_type":"code",
      "source":[
        "divide(10, 3)"
      ],
      "execution_count":159,
      "outputs":[
        {
          "data":{
            "text\/plain":[
              "3"
            ]
          },
          "metadata":{
            
          },
          "output_type":"display_data"
        }
      ],
      "metadata":{
        
      }
    },
    {
      "cell_type":"code",
      "source":[
        "def leng(lst):\n",
        "    if is_null(lst):\n",
        "        return 0\n",
        "    else:\n",
        "        return add1(leng(cdr(lst)))"
      ],
      "execution_count":160,
      "outputs":[
        
      ],
      "metadata":{
        
      }
    },
    {
      "cell_type":"code",
      "source":[
        "leng(['ham', 'and', 'cheese', 'on', 'rye'])"
      ],
      "execution_count":161,
      "outputs":[
        {
          "data":{
            "text\/plain":[
              "5"
            ]
          },
          "metadata":{
            
          },
          "output_type":"display_data"
        }
      ],
      "metadata":{
        
      }
    },
    {
      "cell_type":"code",
      "source":[
        "def pick(n, lst):\n",
        "    \"\"\"returns the fourth element with index starting at 1\"\"\"\n",
        "    if is_zero(sub1(n)):\n",
        "        \"\"\"everytime it check sub(n) instead of n-so return value would be n-1 and not n\n",
        "        which means 1=0, returning macaroni as n=4 instead of meatball\"\"\"\n",
        "        return car(lst)\n",
        "    else:\n",
        "        \"\"\"same reason re pick sub1(n) instead of n\"\"\"\n",
        "        return pick(sub1(n), cdr(lst))"
      ],
      "execution_count":162,
      "outputs":[
        
      ],
      "metadata":{
        
      }
    },
    {
      "cell_type":"code",
      "source":[
        "lst = ['lasagna', 'spaghetti', 'ravioli', 'macaroni', 'meatball']\n",
        "n = 4\n",
        "pick(n, lst)"
      ],
      "execution_count":163,
      "outputs":[
        {
          "data":{
            "text\/plain":[
              "'macaroni'"
            ]
          },
          "metadata":{
            
          },
          "output_type":"display_data"
        }
      ],
      "metadata":{
        
      }
    },
    {
      "cell_type":"code",
      "source":[
        "def rempick(n, lst):\n",
        "    if is_zero(sub1(n)):\n",
        "        return cdr(lst)\n",
        "    else:\n",
        "        return cons(car(lst), rempick(sub1(n) ,cdr(lst)))"
      ],
      "execution_count":164,
      "outputs":[
        
      ],
      "metadata":{
        
      }
    },
    {
      "cell_type":"code",
      "source":[
        "def rempick1(n, lst):\n",
        "    if n == 1:\n",
        "        return cdr(lst)\n",
        "    else:\n",
        "        return cons(car(lst), rempick(sub1(n) ,cdr(lst)))"
      ],
      "execution_count":165,
      "outputs":[
        
      ],
      "metadata":{
        
      }
    },
    {
      "cell_type":"code",
      "source":[
        "lst = ['lasagna', 'spaghetti', 'ravioli', 'macaroni', 'meatball']\n",
        "n = 3\n",
        "rempick1(n, lst)"
      ],
      "execution_count":166,
      "outputs":[
        {
          "data":{
            "text\/plain":[
              "['lasagna', 'spaghetti', 'macaroni', 'meatball']"
            ]
          },
          "metadata":{
            
          },
          "output_type":"display_data"
        }
      ],
      "metadata":{
        
      }
    },
    {
      "cell_type":"code",
      "source":[
        "lst = ['lasagna', 'spaghetti', 'ravioli', 'macaroni', 'meatball']\n",
        "n = 3\n",
        "rempick(n, lst)"
      ],
      "execution_count":167,
      "outputs":[
        {
          "data":{
            "text\/plain":[
              "['lasagna', 'spaghetti', 'macaroni', 'meatball']"
            ]
          },
          "metadata":{
            
          },
          "output_type":"display_data"
        }
      ],
      "metadata":{
        
      }
    },
    {
      "cell_type":"code",
      "source":[
        "def no_nums(lst):\n",
        "    if lst == []:\n",
        "        return []\n",
        "    elif car(lst).isnumeric():\n",
        "        return no_nums(cdr(lst))\n",
        "    else:\n",
        "        return cons(car(lst), no_nums(cdr(lst)))"
      ],
      "execution_count":168,
      "outputs":[
        
      ],
      "metadata":{
        
      }
    },
    {
      "cell_type":"code",
      "source":[
        "lst = ['5', 'pears', '6', 'prunes', '9', 'dates']\n",
        "no_nums(lst)"
      ],
      "execution_count":169,
      "outputs":[
        {
          "data":{
            "text\/plain":[
              "['pears', 'prunes', 'dates']"
            ]
          },
          "metadata":{
            
          },
          "output_type":"display_data"
        }
      ],
      "metadata":{
        
      }
    },
    {
      "cell_type":"code",
      "source":[
        "def all_nums(lst):\n",
        "    if lst == []:\n",
        "        return []\n",
        "    elif car(lst).isnumeric():\n",
        "        return cons(car(lst), all_nums(cdr(lst)))\n",
        "    else:\n",
        "        return all_nums(cdr(lst))"
      ],
      "execution_count":170,
      "outputs":[
        
      ],
      "metadata":{
        
      }
    },
    {
      "cell_type":"code",
      "source":[
        "lst = ['5', 'pears', '6', 'prunes', '9', 'dates']\n",
        "all_nums(lst)"
      ],
      "execution_count":171,
      "outputs":[
        {
          "data":{
            "text\/plain":[
              "['5', '6', '9']"
            ]
          },
          "metadata":{
            
          },
          "output_type":"display_data"
        }
      ],
      "metadata":{
        
      }
    },
    {
      "cell_type":"code",
      "source":[
        "def occur(el, lst):\n",
        "    if lst == []:\n",
        "        return 0\n",
        "    elif is_equal(car(lst), el):\n",
        "        return add1(occur(el, cdr(lst)))\n",
        "    else:\n",
        "        return occur(el, cdr(lst))"
      ],
      "execution_count":172,
      "outputs":[
        
      ],
      "metadata":{
        
      }
    },
    {
      "cell_type":"code",
      "source":[
        "elem = 'carrot'\n",
        "lst = ['carrot', 'juice', 'and', 'carrot', 'halwa', 'carrot', 'carrot']\n",
        "occur(elem, lst)"
      ],
      "execution_count":173,
      "outputs":[
        {
          "data":{
            "text\/plain":[
              "4"
            ]
          },
          "metadata":{
            
          },
          "output_type":"display_data"
        }
      ],
      "metadata":{
        
      }
    },
    {
      "cell_type":"markdown",
      "source":[
        "## OH MY GAWD: IT's FULL OF STARS"
      ],
      "metadata":{
        
      }
    },
    {
      "cell_type":"code",
      "source":[
        "def rember_star(a, lst):\n",
        "    if lst == []:\n",
        "        return []\n",
        "    if is_atom(car(lst)):\n",
        "        if is_equal(car(lst), a):\n",
        "            return rember_star(a, cdr(lst))\n",
        "        else: \n",
        "            return cons(car(lst), rember_star(a, cdr(lst)))\n",
        "    else:\n",
        "        return cons(rember_star(a, car(lst)), rember_star(a, cdr(lst)))\n",
        "    "
      ],
      "execution_count":174,
      "outputs":[
        
      ],
      "metadata":{
        
      }
    },
    {
      "cell_type":"code",
      "source":[
        " lst1 = [ [['tomato', 'sauce']], [['bean'], 'sauce'], ['and', [['flying']], 'sauce'] ]\n",
        " a = 'sauce'\n",
        " rember_star(a, lst1)"
      ],
      "execution_count":175,
      "outputs":[
        {
          "data":{
            "text\/plain":[
              "[[['tomato']], [['bean']], ['and', [['flying']]]]"
            ]
          },
          "metadata":{
            
          },
          "output_type":"display_data"
        }
      ],
      "metadata":{
        
      }
    },
    {
      "cell_type":"code",
      "source":[
        "\n",
        "def insertR_star(old, new, lst):\n",
        "    if lst == []:\n",
        "        return []\n",
        "    if is_atom(car(lst)):\n",
        "        if is_equal(car(lst), old):\n",
        "            return cons(old, cons(new, insertR_star(old, new, cdr(lst))))\n",
        "        else:\n",
        "            return cons(car(lst), insertR_star(old, new, cdr(lst)))\n",
        "    else:\n",
        "        return cons(insertR_star(old, new, car(lst)), insertR_star(old, new, cdr(lst)))"
      ],
      "execution_count":176,
      "outputs":[
        
      ],
      "metadata":{
        
      }
    },
    {
      "cell_type":"code",
      "source":[
        "old = 'chuck'\n",
        "new = 'roast'\n",
        "lst =  [['how', 'much', ['wood']], 'could', \n",
        "        [['a', ['wood'], 'chuck']], \n",
        "        [[['chuck']]], ['if', ['a'], [['wood', 'chuck']]], 'could', 'chuck', 'wood']\n",
        "\n",
        "insertR_star(old, new, lst)"
      ],
      "execution_count":177,
      "outputs":[
        {
          "data":{
            "text\/plain":[
              "[['how', 'much', ['wood']],\n",
              " 'could',\n",
              " [['a', ['wood'], 'chuck', 'roast']],\n",
              " [[['chuck', 'roast']]],\n",
              " ['if', ['a'], [['wood', 'chuck', 'roast']]],\n",
              " 'could',\n",
              " 'chuck',\n",
              " 'roast',\n",
              " 'wood']"
            ]
          },
          "metadata":{
            
          },
          "output_type":"display_data"
        }
      ],
      "metadata":{
        
      }
    },
    {
      "cell_type":"markdown",
      "source":[
        "## THE FIRST COMMANDMENT: FINAL VERSION\n",
        "\n",
        "When recurring on a list,<br> \n",
        "ask two questionsabout it: <br>\n",
        "(null? lst) and else.<br>\n",
        "When recurring on a number, n,<br> \n",
        "ask two questions about it: <br>\n",
        "(zero ? n) and else.<br>\n",
        "When recurring on a list of S-expressions, l, <br>\n",
        "ask three question about it: <br>\n",
        "(null? l), ( atom? ( car l)), and else."
      ],
      "metadata":{
        
      }
    },
    {
      "cell_type":"markdown",
      "source":[
        "## The Fourth Commandment - FINAL VERSION\n",
        "\n",
        "Always change at least one argument while recurring. <br>\n",
        "When recurring on a list , use ( cdr lat). <br>\n",
        "When recurring on a number, n, use (sub1 n). <br>\n",
        "And when recurring on a list of S-expressions, l, use ( car l) and ( cdr l) <br>\n",
        "if neither (null? l) nor ( atom? ( car l)) are true. <br>\n",
        "It must be changed to be closer to termination. The changing argument must be tested in the termination condition: <br>\n",
        "when using cdr, test termination with null? and <br>\n",
        "when using sub1 , test termination with zero ?"
      ],
      "metadata":{
        
      }
    },
    {
      "cell_type":"code",
      "source":[
        "def occur_star(el, lst):\n",
        "    if lst == []:\n",
        "        return 0\n",
        "    if is_atom(car(lst)):\n",
        "        if is_equal(car(lst), el):\n",
        "            return add1(occur_star(el, cdr(lst)))\n",
        "        else:\n",
        "            return occur_star(el, cdr(lst))\n",
        "    else:\n",
        "        return plus(occur_star(el, car(lst)), occur_star(el, cdr(lst)))"
      ],
      "execution_count":178,
      "outputs":[
        
      ],
      "metadata":{
        
      }
    },
    {
      "cell_type":"code",
      "source":[
        "el = 'banana'\n",
        "lst = [\n",
        "    ['banana'], ['split', [['banana', 'ice']], ['cream', 'banana'], 'sherbat'], ['banana', 'brandy']\n",
        "    ]\n",
        "occur_star(el, lst)"
      ],
      "execution_count":179,
      "outputs":[
        {
          "data":{
            "text\/plain":[
              "4"
            ]
          },
          "metadata":{
            
          },
          "output_type":"display_data"
        }
      ],
      "metadata":{
        
      }
    },
    {
      "cell_type":"code",
      "source":[
        "def subst_star(new, old, lst):\n",
        "    if lst == []:\n",
        "        return []\n",
        "    if is_atom(car(lst)):\n",
        "        if is_equal(car(lst), old):\n",
        "            return cons(new, subst_star(new, old, cdr(lst)))\n",
        "        else:\n",
        "            return cons(car(lst), subst_star(new, old, cdr(lst)))\n",
        "    else:\n",
        "        return cons(subst_star(new, old, car(lst)), subst_star(new, old, cdr(lst)))"
      ],
      "execution_count":180,
      "outputs":[
        
      ],
      "metadata":{
        
      }
    },
    {
      "cell_type":"code",
      "source":[
        "old = 'banana'\n",
        "new = 'orange'\n",
        "lst = [\n",
        "    ['banana'], ['split', [['banana', 'ice']], ['cream', 'banana'], 'sherbat'], ['banana', 'brandy']\n",
        "    ]\n",
        "subst_star(new, old, lst)"
      ],
      "execution_count":181,
      "outputs":[
        {
          "data":{
            "text\/plain":[
              "[['orange'],\n",
              " ['split', [['orange', 'ice']], ['cream', 'orange'], 'sherbat'],\n",
              " ['orange', 'brandy']]"
            ]
          },
          "metadata":{
            
          },
          "output_type":"display_data"
        }
      ],
      "metadata":{
        
      }
    },
    {
      "cell_type":"code",
      "source":[
        "def insertL_star(new, old, lst):\n",
        "    if lst == []:\n",
        "        return []\n",
        "    if is_atom(car(lst)):\n",
        "        if is_equal(car(lst), old):\n",
        "            return cons(new, cons(old, insertL_star(new, old, cdr(lst))))\n",
        "        else:\n",
        "            return cons(car(lst), insertL_star(new, old, cdr(lst)))\n",
        "    else:\n",
        "        return cons(insertL_star(new, old, car(lst)), insertL_star(new, old, cdr(lst)))"
      ],
      "execution_count":182,
      "outputs":[
        
      ],
      "metadata":{
        
      }
    },
    {
      "cell_type":"code",
      "source":[
        "new = 'peeker'\n",
        "old = 'chuck'\n",
        "lst = [['how', 'much', ['wood']], 'could', [['a', ['wood'], 'chuck']], [[['chuck']]], ['if', ['a'], [['wood', 'chuck']]], 'could', 'chuck', 'wood']\n",
        "insertL_star(new, old, lst)"
      ],
      "execution_count":183,
      "outputs":[
        {
          "data":{
            "text\/plain":[
              "[['how', 'much', ['wood']],\n",
              " 'could',\n",
              " [['a', ['wood'], 'peeker', 'chuck']],\n",
              " [[['peeker', 'chuck']]],\n",
              " ['if', ['a'], [['wood', 'peeker', 'chuck']]],\n",
              " 'could',\n",
              " 'peeker',\n",
              " 'chuck',\n",
              " 'wood']"
            ]
          },
          "metadata":{
            
          },
          "output_type":"display_data"
        }
      ],
      "metadata":{
        
      }
    },
    {
      "cell_type":"code",
      "source":[
        "l1 = \"('beef', (('sausage')), ('and', ('soda')))\"\n",
        "l2 = \"('beef', (('salami')), ('and', ('soda')))\"\n",
        "\n",
        "l1 = replace_bracs(l1)\n",
        "l2 = replace_bracs(l2)"
      ],
      "execution_count":184,
      "outputs":[
        
      ],
      "metadata":{
        
      }
    },
    {
      "cell_type":"code",
      "source":[
        "l1 == l2"
      ],
      "execution_count":185,
      "outputs":[
        {
          "data":{
            "text\/plain":[
              "False"
            ]
          },
          "metadata":{
            
          },
          "output_type":"display_data"
        }
      ],
      "metadata":{
        
      }
    },
    {
      "cell_type":"markdown",
      "source":[
        "## The Sixth Commandment\n",
        "Simplify only after the function is correct"
      ],
      "metadata":{
        
      }
    },
    {
      "cell_type":"code",
      "source":[
        "def member_star(el, lst):\n",
        "    if lst == []:\n",
        "        return False\n",
        "    if is_atom(car(lst)):\n",
        "        if is_equal(car(lst), el):\n",
        "            return True\n",
        "        else:\n",
        "            return member_star(el, cdr(lst)) \n",
        "    else:\n",
        "        return member_star(el, car(lst)) or member_star(el, cdr(lst))"
      ],
      "execution_count":186,
      "outputs":[
        
      ],
      "metadata":{
        
      }
    },
    {
      "cell_type":"code",
      "source":[
        "lst = [['potato'], ['chips', [['with'], 'fish'], ['chips']]]\n",
        "el = 'chips'\n",
        "member_star(el, lst)"
      ],
      "execution_count":187,
      "outputs":[
        {
          "data":{
            "text\/plain":[
              "True"
            ]
          },
          "metadata":{
            
          },
          "output_type":"display_data"
        }
      ],
      "metadata":{
        
      }
    },
    {
      "cell_type":"code",
      "source":[
        "def leftmost(lst):\n",
        "    if is_atom(car(lst)):\n",
        "        return car(lst)\n",
        "    else:\n",
        "        return leftmost(car(lst))"
      ],
      "execution_count":188,
      "outputs":[
        
      ],
      "metadata":{
        
      }
    },
    {
      "cell_type":"code",
      "source":[
        "lst = [['potato'], ['chips', [['with'], 'fish'], ['chips']]]\n",
        "leftmost(lst)"
      ],
      "execution_count":189,
      "outputs":[
        {
          "data":{
            "text\/plain":[
              "'potato'"
            ]
          },
          "metadata":{
            
          },
          "output_type":"display_data"
        }
      ],
      "metadata":{
        
      }
    },
    {
      "cell_type":"markdown",
      "source":[
        "## SHADOWS"
      ],
      "metadata":{
        
      }
    },
    {
      "cell_type":"code",
      "source":[
        "def numbered(aexp):\n",
        "    if is_atom(aexp):\n",
        "        return aexp.isnumeric()\n",
        "    else:\n",
        "        return numbered(car(aexp)) and numbered(car(cdr(cdr(aexp))))"
      ],
      "execution_count":190,
      "outputs":[
        
      ],
      "metadata":{
        
      }
    },
    {
      "cell_type":"code",
      "source":[
        "numbered(\n",
        "    ('3' '*', 'sausage')\n",
        "    )"
      ],
      "execution_count":191,
      "outputs":[
        {
          "data":{
            "text\/plain":[
              "False"
            ]
          },
          "metadata":{
            
          },
          "output_type":"display_data"
        }
      ],
      "metadata":{
        
      }
    },
    {
      "cell_type":"markdown",
      "source":[
        "## THE SEVENTH COMMANDMENT\n",
        "\n",
        "Recur on the subparts that are of the same nature:<br>\n",
        "• On the sublists of a list.<br>\n",
        "• On the subexpressions of an arithmetic expression. "
      ],
      "metadata":{
        
      }
    },
    {
      "cell_type":"code",
      "source":[
        "def first_sub_exp(aexp):\n",
        "    return car(cdr(aexp))"
      ],
      "execution_count":192,
      "outputs":[
        
      ],
      "metadata":{
        
      }
    },
    {
      "cell_type":"code",
      "source":[
        "aexp = ['+', '1', '3']\n",
        "first_sub_exp(aexp)"
      ],
      "execution_count":193,
      "outputs":[
        {
          "data":{
            "text\/plain":[
              "'1'"
            ]
          },
          "metadata":{
            
          },
          "output_type":"display_data"
        }
      ],
      "metadata":{
        
      }
    },
    {
      "cell_type":"code",
      "source":[
        "def second_sub_exp(aexp):\n",
        "    return car(cdr(cdr(aexp)))"
      ],
      "execution_count":194,
      "outputs":[
        
      ],
      "metadata":{
        
      }
    },
    {
      "cell_type":"code",
      "source":[
        "aexp = ['+', '1', '3']\n",
        "second_sub_exp(aexp)"
      ],
      "execution_count":195,
      "outputs":[
        {
          "data":{
            "text\/plain":[
              "'3'"
            ]
          },
          "metadata":{
            
          },
          "output_type":"display_data"
        }
      ],
      "metadata":{
        
      }
    },
    {
      "cell_type":"code",
      "source":[
        "def operator(aexp):\n",
        "    return car(aexp)"
      ],
      "execution_count":196,
      "outputs":[
        
      ],
      "metadata":{
        
      }
    },
    {
      "cell_type":"code",
      "source":[
        "aexp = ['+', '1', '3']\n",
        "operator(aexp)"
      ],
      "execution_count":197,
      "outputs":[
        {
          "data":{
            "text\/plain":[
              "'+'"
            ]
          },
          "metadata":{
            
          },
          "output_type":"display_data"
        }
      ],
      "metadata":{
        
      }
    },
    {
      "cell_type":"code",
      "source":[
        "def value(nexp):\n",
        "    \"\"\"returns the value of the prefix list\"\"\"\n",
        "    if is_atom(nexp):\n",
        "        return nexp\n",
        "    if is_equal(operator(nexp), '+'):\n",
        "        return plus(value(first_sub_exp(nexp)), value(second_sub_exp(nexp)) )\n",
        "    elif is_equal(operator(nexp), '*'):\n",
        "        return mult(value(first_sub_exp(nexp)), value(second_sub_exp(nexp)) )\n",
        "    elif is_equal(operator(nexp), '^'):\n",
        "        return power(value(first_sub_exp(nexp)), value(second_sub_exp(nexp)) )"
      ],
      "execution_count":198,
      "outputs":[
        
      ],
      "metadata":{
        
      }
    },
    {
      "cell_type":"code",
      "source":[
        "nexp = ['+', ( '*', '3', '6'), ('^', '8', '2')]\n",
        "value(nexp)"
      ],
      "execution_count":199,
      "outputs":[
        {
          "data":{
            "text\/plain":[
              "82"
            ]
          },
          "metadata":{
            
          },
          "output_type":"display_data"
        }
      ],
      "metadata":{
        
      }
    },
    {
      "cell_type":"code",
      "source":[
        "def value1(nexp):\n",
        "    operators = {'+':plus, '*':mult, '^': power}\n",
        "    if is_atom(nexp):\n",
        "        return nexp\n",
        "    return operators[operator(nexp)](value1(first_sub_exp(nexp)), value1(second_sub_exp(nexp)))"
      ],
      "execution_count":200,
      "outputs":[
        
      ],
      "metadata":{
        
      }
    },
    {
      "cell_type":"code",
      "source":[
        "nexp = ['+', ( '*', '3', '6'), ('^', '8', '2')]\n",
        "value1(nexp)"
      ],
      "execution_count":201,
      "outputs":[
        {
          "data":{
            "text\/plain":[
              "82"
            ]
          },
          "metadata":{
            
          },
          "output_type":"display_data"
        }
      ],
      "metadata":{
        
      }
    },
    {
      "cell_type":"markdown",
      "source":[
        "## The Eighth Commandment\n",
        "Use help functions to abstract from representations. "
      ],
      "metadata":{
        
      }
    },
    {
      "cell_type":"code",
      "source":[
        "def is_set(lst):\n",
        "    if lst == []:\n",
        "        return True\n",
        "    elif is_member(car(lst), cdr(lst)):\n",
        "        return False\n",
        "    else:\n",
        "        return is_set(cdr(lst))"
      ],
      "execution_count":202,
      "outputs":[
        
      ],
      "metadata":{
        
      }
    },
    {
      "cell_type":"code",
      "source":[
        "lst = ['apples', 'peaches', 'apples', 'plums']\n",
        "is_set(lst)"
      ],
      "execution_count":203,
      "outputs":[
        {
          "data":{
            "text\/plain":[
              "False"
            ]
          },
          "metadata":{
            
          },
          "output_type":"display_data"
        }
      ],
      "metadata":{
        
      }
    },
    {
      "cell_type":"code",
      "source":[
        "def make_set(lst):\n",
        "    if lst == []:\n",
        "        return []\n",
        "    elif is_member(car(lst), cdr(lst)):\n",
        "        return make_set(cdr(lst))\n",
        "    else:\n",
        "        return cons(car(lst), make_set(cdr(lst)))"
      ],
      "execution_count":204,
      "outputs":[
        
      ],
      "metadata":{
        
      }
    },
    {
      "cell_type":"code",
      "source":[
        "lst = ['apple', 'peach', 'pear', 'peach', 'plum', 'apple', 'lemon', 'peach']\n",
        "make_set(lst)"
      ],
      "execution_count":205,
      "outputs":[
        {
          "data":{
            "text\/plain":[
              "['pear', 'plum', 'apple', 'lemon', 'peach']"
            ]
          },
          "metadata":{
            
          },
          "output_type":"display_data"
        }
      ],
      "metadata":{
        
      }
    },
    {
      "cell_type":"code",
      "source":[
        "def make_set1(lst):\n",
        "    if lst == []:\n",
        "        return []\n",
        "    else:\n",
        "        return cons(car(lst), make_set1(multirember(car(lst), cdr(lst))))"
      ],
      "execution_count":206,
      "outputs":[
        
      ],
      "metadata":{
        
      }
    },
    {
      "cell_type":"code",
      "source":[
        "lst = ['apple', 'peach', 'pear', 'peach', 'plum', 'apple', 'lemon', 'peach']\n",
        "make_set1(lst)"
      ],
      "execution_count":207,
      "outputs":[
        {
          "data":{
            "text\/plain":[
              "['apple', 'peach', 'pear', 'plum', 'lemon']"
            ]
          },
          "metadata":{
            
          },
          "output_type":"display_data"
        }
      ],
      "metadata":{
        
      }
    },
    {
      "cell_type":"code",
      "source":[
        "def is_subset(set1, set2):\n",
        "    \"\"\"Are all elements of set1 in set2?\"\"\"\n",
        "    if set1 == []:\n",
        "        return True\n",
        "    else:\n",
        "        if is_member(car(set1), set2):\n",
        "            return is_subset(cdr(set1), set2)\n",
        "        return False    "
      ],
      "execution_count":208,
      "outputs":[
        
      ],
      "metadata":{
        
      }
    },
    {
      "cell_type":"code",
      "source":[
        "set1 = ['5', 'chicken', 'wings']\n",
        "set2 = ['four', 'wings', 'chicken', 'and','5', 'ounces', 'horseradish']\n",
        "is_subset(set1, set2)"
      ],
      "execution_count":209,
      "outputs":[
        {
          "data":{
            "text\/plain":[
              "True"
            ]
          },
          "metadata":{
            
          },
          "output_type":"display_data"
        }
      ],
      "metadata":{
        
      }
    },
    {
      "cell_type":"code",
      "source":[
        "def does_intersect(set1, set2):\n",
        "    \"\"\"Do we have an intersection?\"\"\"\n",
        "    if set1 == []:\n",
        "        return True\n",
        "    else:\n",
        "        return is_member(car(set1), set2) or does_intersect(cdr(set1), set2)"
      ],
      "execution_count":210,
      "outputs":[
        
      ],
      "metadata":{
        
      }
    },
    {
      "cell_type":"code",
      "source":[
        "set1 = ['bread', 'wings']\n",
        "set2 = ['four', 'wings', 'chicken', 'and','5', 'ounces', 'horseradish']\n",
        "does_intersect(set1, set2)\n",
        "is_subset(set1, set2)"
      ],
      "execution_count":211,
      "outputs":[
        {
          "data":{
            "text\/plain":[
              "False"
            ]
          },
          "metadata":{
            
          },
          "output_type":"display_data"
        }
      ],
      "metadata":{
        
      }
    },
    {
      "cell_type":"code",
      "source":[
        "def intersect(set1, set2):\n",
        "    if set1 == []:\n",
        "        return []\n",
        "    else:\n",
        "        if is_member(car(set1), set2):\n",
        "            return cons(car(set1), intersect(cdr(set1), set2))\n",
        "        else:\n",
        "            return intersect(cdr(set1), set2)"
      ],
      "execution_count":212,
      "outputs":[
        
      ],
      "metadata":{
        
      }
    },
    {
      "cell_type":"code",
      "source":[
        "set1 = ['stewed', 'tomatoes', 'and', 'macaroni']\n",
        "set2 = ['macaroni', 'and', 'cheese']\n",
        "intersect(set1, set2)"
      ],
      "execution_count":213,
      "outputs":[
        {
          "data":{
            "text\/plain":[
              "['and', 'macaroni']"
            ]
          },
          "metadata":{
            
          },
          "output_type":"display_data"
        }
      ],
      "metadata":{
        
      }
    },
    {
      "cell_type":"code",
      "source":[
        "def union(set1, set2):\n",
        "    if set1 == []:\n",
        "        return set2\n",
        "    elif is_member(car(set1), set2):\n",
        "            return union(cdr(set1), set2)\n",
        "    else:\n",
        "        return cons(car(set1), union(cdr(set1), set2))"
      ],
      "execution_count":214,
      "outputs":[
        
      ],
      "metadata":{
        
      }
    },
    {
      "cell_type":"code",
      "source":[
        "set1 = ['stewed', 'tomatoes', 'and', 'macaroni']\n",
        "set2 = ['macaroni', 'and', 'cheese']\n",
        "union(set1, set2)"
      ],
      "execution_count":215,
      "outputs":[
        {
          "data":{
            "text\/plain":[
              "['stewed', 'tomatoes', 'macaroni', 'and', 'cheese']"
            ]
          },
          "metadata":{
            
          },
          "output_type":"display_data"
        }
      ],
      "metadata":{
        
      }
    },
    {
      "cell_type":"code",
      "source":[
        "def set_diff(set1, set2):\n",
        "    if set1 == []:\n",
        "        return []\n",
        "    elif is_member(car(set1), set2):\n",
        "            return set_diff(cdr(set1), set2)\n",
        "    else:\n",
        "        return cons(car(set1), set_diff(cdr(set1), set2))"
      ],
      "execution_count":216,
      "outputs":[
        
      ],
      "metadata":{
        
      }
    },
    {
      "cell_type":"code",
      "source":[
        "set1 = ['stewed', 'tomatoes', 'and', 'macaroni']\n",
        "set2 = ['macaroni', 'and', 'cheese']\n",
        "set_diff(set1, set2)"
      ],
      "execution_count":217,
      "outputs":[
        {
          "data":{
            "text\/plain":[
              "['stewed', 'tomatoes']"
            ]
          },
          "metadata":{
            
          },
          "output_type":"display_data"
        }
      ],
      "metadata":{
        
      }
    },
    {
      "cell_type":"code",
      "source":[
        "def intersect_all(lst_set):\n",
        "    \"\"\"Finds the intersect in all lists in a list of lists\"\"\"\n",
        "    if cdr(lst_set) == []:\n",
        "        return car(lst_set)\n",
        "    else:\n",
        "        return intersect(car(lst_set), intersect_all(cdr(lst_set)))"
      ],
      "execution_count":218,
      "outputs":[
        
      ],
      "metadata":{
        
      }
    },
    {
      "cell_type":"code",
      "source":[
        "lst_set = [['a', 'b', 'c'],  ['c', 'a', 'b', 'e'], ['e', 'f', 'g', 'h', 'a', 'b'] ]\n",
        "intersect_all(lst_set)"
      ],
      "execution_count":219,
      "outputs":[
        {
          "data":{
            "text\/plain":[
              "['a', 'b']"
            ]
          },
          "metadata":{
            
          },
          "output_type":"display_data"
        }
      ],
      "metadata":{
        
      }
    },
    {
      "cell_type":"code",
      "source":[
        "def revpair(pair):\n",
        "    \"\"\"reverses a pair\"\"\"\n",
        "    return [pair[1], pair[0]]"
      ],
      "execution_count":220,
      "outputs":[
        
      ],
      "metadata":{
        
      }
    },
    {
      "cell_type":"code",
      "source":[
        "pair = ['a', 'b']\n",
        "revpair(pair)"
      ],
      "execution_count":221,
      "outputs":[
        {
          "data":{
            "text\/plain":[
              "['b', 'a']"
            ]
          },
          "metadata":{
            
          },
          "output_type":"display_data"
        }
      ],
      "metadata":{
        
      }
    },
    {
      "cell_type":"code",
      "source":[
        "def revrel(rel):\n",
        "    \"\"\"reverses the elements in the list\"\"\"\n",
        "    if rel == []:\n",
        "        return []\n",
        "    else:\n",
        "        return cons(revpair(car(rel)), revrel(cdr(rel)))"
      ],
      "execution_count":222,
      "outputs":[
        
      ],
      "metadata":{
        
      }
    },
    {
      "cell_type":"code",
      "source":[
        "rel =  [['8', 'a'], ['pumpkin', 'pie'], ['got', 'sick']]\n",
        "revrel(rel)"
      ],
      "execution_count":223,
      "outputs":[
        {
          "data":{
            "text\/plain":[
              "[['a', '8'], ['pie', 'pumpkin'], ['sick', 'got']]"
            ]
          },
          "metadata":{
            
          },
          "output_type":"display_data"
        }
      ],
      "metadata":{
        
      }
    },
    {
      "cell_type":"code",
      "source":[
        "def build(lst1, lst2):\n",
        "    \"\"\"builds a list of lists\"\"\"\n",
        "    return cons(lst1, cons(lst2, []))"
      ],
      "execution_count":224,
      "outputs":[
        
      ],
      "metadata":{
        
      }
    },
    {
      "cell_type":"code",
      "source":[
        "lst1 =  ['8', 'a']\n",
        "lst2 = ['pumpkin', 'pie']\n",
        "build(lst1, lst2)"
      ],
      "execution_count":225,
      "outputs":[
        {
          "data":{
            "text\/plain":[
              "[['8', 'a'], ['pumpkin', 'pie']]"
            ]
          },
          "metadata":{
            
          },
          "output_type":"display_data"
        }
      ],
      "metadata":{
        
      }
    },
    {
      "cell_type":"code",
      "source":[
        "cons(lst2, [])"
      ],
      "execution_count":226,
      "outputs":[
        {
          "data":{
            "text\/plain":[
              "[['pumpkin', 'pie']]"
            ]
          },
          "metadata":{
            
          },
          "output_type":"display_data"
        }
      ],
      "metadata":{
        
      }
    },
    {
      "cell_type":"code",
      "source":[
        "cons(lst1, cons(lst2, []))"
      ],
      "execution_count":227,
      "outputs":[
        {
          "data":{
            "text\/plain":[
              "[['8', 'a'], ['pumpkin', 'pie']]"
            ]
          },
          "metadata":{
            
          },
          "output_type":"display_data"
        }
      ],
      "metadata":{
        
      }
    },
    {
      "cell_type":"code",
      "source":[
        "def first(lst):\n",
        "    \"\"\"First element from a list\"\"\"\n",
        "    return car(lst)"
      ],
      "execution_count":228,
      "outputs":[
        
      ],
      "metadata":{
        
      }
    },
    {
      "cell_type":"code",
      "source":[
        "def second(lst):\n",
        "    \"\"\"second element from a list\"\"\"\n",
        "    return car(cdr(lst))"
      ],
      "execution_count":229,
      "outputs":[
        
      ],
      "metadata":{
        
      }
    },
    {
      "cell_type":"code",
      "source":[
        "rel =  [['8', 'a'], ['pumpkin', 'pie'], ['got', 'sick']]\n",
        "second(rel)"
      ],
      "execution_count":230,
      "outputs":[
        {
          "data":{
            "text\/plain":[
              "['pumpkin', 'pie']"
            ]
          },
          "metadata":{
            
          },
          "output_type":"display_data"
        }
      ],
      "metadata":{
        
      }
    },
    {
      "cell_type":"code",
      "source":[
        "second(['8', 'a'])"
      ],
      "execution_count":231,
      "outputs":[
        {
          "data":{
            "text\/plain":[
              "'a'"
            ]
          },
          "metadata":{
            
          },
          "output_type":"display_data"
        }
      ],
      "metadata":{
        
      }
    },
    {
      "cell_type":"code",
      "source":[
        "def revrel1(lst):\n",
        "    \"\"\"reversing the pairs using build, first and second\"\"\"\n",
        "    if lst == []:\n",
        "        return []\n",
        "    else:\n",
        "        return cons(build(second(car(lst)), first(car(lst))), revrel1(cdr(lst)))"
      ],
      "execution_count":232,
      "outputs":[
        
      ],
      "metadata":{
        
      }
    },
    {
      "cell_type":"code",
      "source":[
        "rel =  [['8', 'a'], ['pumpkin', 'pie'], ['got', 'sick']]\n",
        "revrel1(rel)"
      ],
      "execution_count":233,
      "outputs":[
        {
          "data":{
            "text\/plain":[
              "[['a', '8'], ['pie', 'pumpkin'], ['sick', 'got']]"
            ]
          },
          "metadata":{
            
          },
          "output_type":"display_data"
        }
      ],
      "metadata":{
        
      }
    },
    {
      "cell_type":"markdown",
      "source":[
        "## LAMBDA THE ULTIMATE"
      ],
      "metadata":{
        
      }
    },
    {
      "cell_type":"code",
      "source":[
        "def rember_f(test, a, lst):\n",
        "    if lst == []:\n",
        "        return []\n",
        "    if test(car(lst), a):\n",
        "            return cdr(lst)\n",
        "    else:\n",
        "        return cons(car(lst), rember_f(test, a, cdr(lst)))"
      ],
      "execution_count":234,
      "outputs":[
        
      ],
      "metadata":{
        
      }
    },
    {
      "cell_type":"code",
      "source":[
        "a = 'salad'\n",
        "lst = ['tuna', 'salad', 'is', 'good']\n",
        "rember_f(is_equal, a, lst)"
      ],
      "execution_count":235,
      "outputs":[
        {
          "data":{
            "text\/plain":[
              "['tuna', 'is', 'good']"
            ]
          },
          "metadata":{
            
          },
          "output_type":"display_data"
        }
      ],
      "metadata":{
        
      }
    },
    {
      "cell_type":"code",
      "source":[
        "def insertL_f(test, old, new, lst):\n",
        "    if lst == []:\n",
        "        return []\n",
        "    elif test(car(lst), old):\n",
        "        return cons(new, cons(old, cdr(lst)))\n",
        "    else:\n",
        "        return cons(car(lst), insertL_f(test, old, new, cdr(lst)))\n",
        "\n",
        "\n",
        "insertL_f(is_equal, 'A', 'Z', ['B', 'C', 'A', 'D'])\n"
      ],
      "execution_count":236,
      "outputs":[
        {
          "data":{
            "text\/plain":[
              "['B', 'C', 'Z', 'A', 'D']"
            ]
          },
          "metadata":{
            
          },
          "output_type":"display_data"
        }
      ],
      "metadata":{
        
      }
    },
    {
      "cell_type":"code",
      "source":[
        "def insertR_f(test, old, new, lst):\n",
        "    if lst == []:\n",
        "        return []\n",
        "    elif test(car(lst), old):\n",
        "        return cons(old, cons(new, cdr(lst)))\n",
        "    else:\n",
        "        return cons(car(lst), insertR_f(test, old, new, cdr(lst)))\n",
        "\n",
        "insertR_f(is_equal, 'A', 'Z', ['B', 'C', 'A', 'D'])"
      ],
      "execution_count":237,
      "outputs":[
        {
          "data":{
            "text\/plain":[
              "['B', 'C', 'A', 'Z', 'D']"
            ]
          },
          "metadata":{
            
          },
          "output_type":"display_data"
        }
      ],
      "metadata":{
        
      }
    },
    {
      "cell_type":"code",
      "source":[
        "def seq_r(old, new, lst):\n",
        "    return cons(old, cons(new, lst))\n",
        "\n",
        "def seq_l(old, new, lst):\n",
        "    return cons(new, cons(old, lst))\n",
        "\n",
        "def subst(old, new, lst):\n",
        "    return cons(new, lst)"
      ],
      "execution_count":252,
      "outputs":[
        
      ],
      "metadata":{
        
      }
    },
    {
      "cell_type":"code",
      "source":[
        "def insert_g(seq, old, new, lst):\n",
        "    if lst == []:\n",
        "        return []\n",
        "    elif is_equal(car(lst), old):\n",
        "        return seq(old, new, cdr(lst))\n",
        "    else:\n",
        "        return cons(car(lst), insert_g(seq, old, new, cdr(lst)))\n",
        "    \n",
        "old = 'A'\n",
        "new = 'Z'\n",
        "lst = ['B', 'C', 'A', 'D']\n",
        "insert_g(subst, old, new, lst)"
      ],
      "execution_count":253,
      "outputs":[
        {
          "data":{
            "text\/plain":[
              "['B', 'C', 'Z', 'D']"
            ]
          },
          "metadata":{
            
          },
          "output_type":"display_data"
        }
      ],
      "metadata":{
        
      }
    },
    {
      "cell_type":"markdown",
      "source":[
        "THE TENTH COMMANDMENT:\n",
        "\n",
        "BUILD FUNCTIONS TO COLLECT MORE THAN ONE VALUE AT A TIME"
      ],
      "metadata":{
        
      }
    },
    {
      "cell_type":"code",
      "source":[
        "def multiinsertLR(new, oldL, oldR, lst):\n",
        "    if lst == []:\n",
        "        return []\n",
        "    elif is_equal(car(lst), oldL):\n",
        "        return cons(new, cons(oldL, multiinsertLR(new, oldL, oldR, cdr(lst))))\n",
        "    elif is_equal(car(lst), oldR):\n",
        "        return cons(oldR, cons(new, multiinsertLR(new, oldL, oldR, cdr(lst))))\n",
        "    else:\n",
        "        return cons(car(lst), multiinsertLR(new, oldL, oldR, cdr(lst)))\n",
        "\n",
        "multiinsertLR(1, 4, 6, [2, 3, 4, 5, 6, 7, 8])"
      ],
      "execution_count":258,
      "outputs":[
        {
          "data":{
            "text\/plain":[
              "[2, 3, 1, 4, 5, 6, 1, 7, 8]"
            ]
          },
          "metadata":{
            
          },
          "output_type":"display_data"
        }
      ],
      "metadata":{
        
      }
    },
    {
      "cell_type":"code",
      "source":[
        
      ],
      "execution_count":263,
      "outputs":[
        {
          "data":{
            "text\/plain":[
              "6"
            ]
          },
          "metadata":{
            
          },
          "output_type":"display_data"
        }
      ],
      "metadata":{
        
      }
    },
    {
      "cell_type":"code",
      "source":[
        "def keep_looking(a, sorn, lst):\n",
        "    \"\"\"Keeps on looking until a is found, else returns false\n",
        "    starts with sorn = 6\n",
        "    6th value in the list = 7\n",
        "    7th value in the list = 3\n",
        "    3rd value in the list = 4\n",
        "    4th value in the list = caviar(not an integer)\n",
        "    Is caviar == caviar? - True\n",
        "    This is also a partial recursive function\"\"\"\n",
        "    while isinstance(sorn, int):\n",
        "        return keep_looking(a, lst[sorn-1], lst)\n",
        "    else:\n",
        "        return is_equal(sorn, a)\n",
        "lst = [6, 2, 4, 'caviar', 5, 7, 3]\n",
        "keep_looking('caviar', lst=lst, sorn=car(lst))"
      ],
      "execution_count":268,
      "outputs":[
        {
          "data":{
            "text\/plain":[
              "True"
            ]
          },
          "metadata":{
            
          },
          "output_type":"display_data"
        }
      ],
      "metadata":{
        
      }
    },
    {
      "cell_type":"code",
      "source":[
        "# def lookup_in_entry_help(name, names, values, entry_f):\n",
        "#     if names == []:\n",
        "#         return [entry_f, name]\n",
        "#     elif is_equal(car(names), name):\n",
        "#         return car(values)\n",
        "#     else:\n",
        "#         return lookup_in_entry_help(name, cdr(names), cdr(values), entry_f)\n",
        "\n",
        "# def lookup_in_entry(name, entry, entry_f):\n",
        "#     return lookup_in_entry_help(name, first(entry), second(entry), entry_f)\n",
        "\n",
        "# lookup_in_entry('entre', )"
      ],
      "execution_count":null,
      "outputs":[
        
      ],
      "metadata":{
        
      }
    }
  ],
  "metadata":{
    
  },
  "nbformat":4,
  "nbformat_minor":0
}